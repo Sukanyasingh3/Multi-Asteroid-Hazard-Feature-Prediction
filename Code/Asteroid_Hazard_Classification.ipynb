{
  "nbformat": 4,
  "nbformat_minor": 0,
  "metadata": {
    "colab": {
      "provenance": []
    },
    "kernelspec": {
      "name": "python3",
      "display_name": "Python 3"
    },
    "language_info": {
      "name": "python"
    },
    "accelerator": "TPU"
  },
  "cells": [
    {
      "cell_type": "code",
      "source": [
        "#Downloading dataset\n",
        "!mkdir -p ~/.kaggle\n",
        "!cp kaggle.json ~/.kaggle/\n",
        "!kaggle datasets download -d brsdincer/asteroid-classification-for-hazardous-prediction"
      ],
      "metadata": {
        "colab": {
          "base_uri": "https://localhost:8080/"
        },
        "id": "IPAy6ErnYiCm",
        "outputId": "4610f78d-74a0-4204-84ab-eb69195a3e7d"
      },
      "execution_count": 1,
      "outputs": [
        {
          "output_type": "stream",
          "name": "stdout",
          "text": [
            "Warning: Your Kaggle API key is readable by other users on this system! To fix this, you can run 'chmod 600 /root/.kaggle/kaggle.json'\n",
            "asteroid-classification-for-hazardous-prediction.zip: Skipping, found more recently modified local copy (use --force to force download)\n"
          ]
        }
      ]
    },
    {
      "cell_type": "code",
      "source": [
        "#Unzipping the dataset file\n",
        "import zipfile\n",
        "zip_ref = zipfile.ZipFile('/content/asteroid-classification-for-hazardous-prediction.zip', 'r')\n",
        "zip_ref.extractall('/content')\n",
        "zip_ref.close()"
      ],
      "metadata": {
        "id": "9hHJZQLGX_D8"
      },
      "execution_count": 2,
      "outputs": []
    },
    {
      "cell_type": "markdown",
      "source": [
        "# Data Cleaning"
      ],
      "metadata": {
        "id": "8idQbcfBA6Tf"
      }
    },
    {
      "cell_type": "code",
      "source": [
        "import pandas as pd\n",
        "import numpy as np"
      ],
      "metadata": {
        "id": "b0Q4OrE8ZMXa"
      },
      "execution_count": 3,
      "outputs": []
    },
    {
      "cell_type": "code",
      "source": [
        "df=pd.read_csv('/content/Asteroid_Updated.csv')"
      ],
      "metadata": {
        "colab": {
          "base_uri": "https://localhost:8080/"
        },
        "id": "ikQnHhfNZM34",
        "outputId": "e28b2881-7588-4824-e36c-a5cd91d9074f"
      },
      "execution_count": 4,
      "outputs": [
        {
          "output_type": "stream",
          "name": "stderr",
          "text": [
            "<ipython-input-4-b269467dee54>:1: DtypeWarning: Columns (0,10,15,16,23,24) have mixed types. Specify dtype option on import or set low_memory=False.\n",
            "  df=pd.read_csv('/content/Asteroid_Updated.csv')\n"
          ]
        }
      ]
    },
    {
      "cell_type": "code",
      "source": [
        "df"
      ],
      "metadata": {
        "colab": {
          "base_uri": "https://localhost:8080/",
          "height": 444
        },
        "id": "Fh9eOlRmZZcU",
        "outputId": "e5ba14c1-2947-4a64-bccf-35f17d911ac2"
      },
      "execution_count": 5,
      "outputs": [
        {
          "output_type": "execute_result",
          "data": {
            "text/plain": [
              "           name         a         e          i          om           w  \\\n",
              "0         Ceres  2.769165  0.076009  10.594067   80.305532   73.597694   \n",
              "1        Pallas  2.772466  0.230337  34.836234  173.080063  310.048857   \n",
              "2          Juno  2.669150  0.256942  12.988919  169.852760  248.138626   \n",
              "3         Vesta  2.361418  0.088721   7.141771  103.810804  150.728541   \n",
              "4       Astraea  2.574249  0.191095   5.366988  141.576605  358.687607   \n",
              "...         ...       ...       ...        ...         ...         ...   \n",
              "839709      NaN  2.812945  0.664688   4.695700  183.310012  234.618352   \n",
              "839710      NaN  2.645238  0.259376  12.574937    1.620020  339.568072   \n",
              "839711      NaN  2.373137  0.202053   0.732484  176.499082  198.026527   \n",
              "839712      NaN  2.260404  0.258348   9.661947  204.512448  148.496988   \n",
              "839713      NaN  2.546442  0.287672   5.356238   70.709555  273.483265   \n",
              "\n",
              "               q        ad     per_y  data_arc  ...     UB  IR  spec_B spec_T  \\\n",
              "0       2.558684  2.979647  4.608202    8822.0  ...  0.426 NaN       C      G   \n",
              "1       2.133865  3.411067  4.616444   72318.0  ...  0.284 NaN       B      B   \n",
              "2       1.983332  3.354967  4.360814   72684.0  ...  0.433 NaN      Sk      S   \n",
              "3       2.151909  2.570926  3.628837   24288.0  ...  0.492 NaN       V      V   \n",
              "4       2.082324  3.066174  4.130323   63507.0  ...  0.411 NaN       S      S   \n",
              "...          ...       ...       ...       ...  ...    ...  ..     ...    ...   \n",
              "839709  0.943214  4.682676  4.717914   17298.0  ...    NaN NaN     NaN    NaN   \n",
              "839710  1.959126  3.331350  4.302346      16.0  ...    NaN NaN     NaN    NaN   \n",
              "839711  1.893638  2.852636  3.655884       5.0  ...    NaN NaN     NaN    NaN   \n",
              "839712  1.676433  2.844376  3.398501      10.0  ...    NaN NaN     NaN    NaN   \n",
              "839713  1.813901  3.278983  4.063580      11.0  ...    NaN NaN     NaN    NaN   \n",
              "\n",
              "           G      moid class         n          per          ma  \n",
              "0       0.12  1.594780   MBA  0.213885  1683.145708   77.372096  \n",
              "1       0.11  1.233240   MBA  0.213503  1686.155999   59.699133  \n",
              "2       0.32  1.034540   MBA  0.226019  1592.787285   34.925016  \n",
              "3       0.32  1.139480   MBA  0.271609  1325.432765   95.861936  \n",
              "4        NaN  1.095890   MBA  0.238632  1508.600458  282.366289  \n",
              "...      ...       ...   ...       ...          ...         ...  \n",
              "839709   NaN  0.032397   APO  0.208911  1723.217927  156.905910  \n",
              "839710   NaN  0.956145   MBA  0.229090  1571.431965   13.366251  \n",
              "839711   NaN  0.893896   MBA  0.269600  1335.311579  355.351127  \n",
              "839712   NaN  0.680220   MBA  0.290018  1241.302609   15.320134  \n",
              "839713   NaN  0.815280   MBA  0.242551  1484.222588   20.432959  \n",
              "\n",
              "[839714 rows x 31 columns]"
            ],
            "text/html": [
              "\n",
              "  <div id=\"df-f03236f7-3afc-4e26-a719-ea1941197c81\" class=\"colab-df-container\">\n",
              "    <div>\n",
              "<style scoped>\n",
              "    .dataframe tbody tr th:only-of-type {\n",
              "        vertical-align: middle;\n",
              "    }\n",
              "\n",
              "    .dataframe tbody tr th {\n",
              "        vertical-align: top;\n",
              "    }\n",
              "\n",
              "    .dataframe thead th {\n",
              "        text-align: right;\n",
              "    }\n",
              "</style>\n",
              "<table border=\"1\" class=\"dataframe\">\n",
              "  <thead>\n",
              "    <tr style=\"text-align: right;\">\n",
              "      <th></th>\n",
              "      <th>name</th>\n",
              "      <th>a</th>\n",
              "      <th>e</th>\n",
              "      <th>i</th>\n",
              "      <th>om</th>\n",
              "      <th>w</th>\n",
              "      <th>q</th>\n",
              "      <th>ad</th>\n",
              "      <th>per_y</th>\n",
              "      <th>data_arc</th>\n",
              "      <th>...</th>\n",
              "      <th>UB</th>\n",
              "      <th>IR</th>\n",
              "      <th>spec_B</th>\n",
              "      <th>spec_T</th>\n",
              "      <th>G</th>\n",
              "      <th>moid</th>\n",
              "      <th>class</th>\n",
              "      <th>n</th>\n",
              "      <th>per</th>\n",
              "      <th>ma</th>\n",
              "    </tr>\n",
              "  </thead>\n",
              "  <tbody>\n",
              "    <tr>\n",
              "      <th>0</th>\n",
              "      <td>Ceres</td>\n",
              "      <td>2.769165</td>\n",
              "      <td>0.076009</td>\n",
              "      <td>10.594067</td>\n",
              "      <td>80.305532</td>\n",
              "      <td>73.597694</td>\n",
              "      <td>2.558684</td>\n",
              "      <td>2.979647</td>\n",
              "      <td>4.608202</td>\n",
              "      <td>8822.0</td>\n",
              "      <td>...</td>\n",
              "      <td>0.426</td>\n",
              "      <td>NaN</td>\n",
              "      <td>C</td>\n",
              "      <td>G</td>\n",
              "      <td>0.12</td>\n",
              "      <td>1.594780</td>\n",
              "      <td>MBA</td>\n",
              "      <td>0.213885</td>\n",
              "      <td>1683.145708</td>\n",
              "      <td>77.372096</td>\n",
              "    </tr>\n",
              "    <tr>\n",
              "      <th>1</th>\n",
              "      <td>Pallas</td>\n",
              "      <td>2.772466</td>\n",
              "      <td>0.230337</td>\n",
              "      <td>34.836234</td>\n",
              "      <td>173.080063</td>\n",
              "      <td>310.048857</td>\n",
              "      <td>2.133865</td>\n",
              "      <td>3.411067</td>\n",
              "      <td>4.616444</td>\n",
              "      <td>72318.0</td>\n",
              "      <td>...</td>\n",
              "      <td>0.284</td>\n",
              "      <td>NaN</td>\n",
              "      <td>B</td>\n",
              "      <td>B</td>\n",
              "      <td>0.11</td>\n",
              "      <td>1.233240</td>\n",
              "      <td>MBA</td>\n",
              "      <td>0.213503</td>\n",
              "      <td>1686.155999</td>\n",
              "      <td>59.699133</td>\n",
              "    </tr>\n",
              "    <tr>\n",
              "      <th>2</th>\n",
              "      <td>Juno</td>\n",
              "      <td>2.669150</td>\n",
              "      <td>0.256942</td>\n",
              "      <td>12.988919</td>\n",
              "      <td>169.852760</td>\n",
              "      <td>248.138626</td>\n",
              "      <td>1.983332</td>\n",
              "      <td>3.354967</td>\n",
              "      <td>4.360814</td>\n",
              "      <td>72684.0</td>\n",
              "      <td>...</td>\n",
              "      <td>0.433</td>\n",
              "      <td>NaN</td>\n",
              "      <td>Sk</td>\n",
              "      <td>S</td>\n",
              "      <td>0.32</td>\n",
              "      <td>1.034540</td>\n",
              "      <td>MBA</td>\n",
              "      <td>0.226019</td>\n",
              "      <td>1592.787285</td>\n",
              "      <td>34.925016</td>\n",
              "    </tr>\n",
              "    <tr>\n",
              "      <th>3</th>\n",
              "      <td>Vesta</td>\n",
              "      <td>2.361418</td>\n",
              "      <td>0.088721</td>\n",
              "      <td>7.141771</td>\n",
              "      <td>103.810804</td>\n",
              "      <td>150.728541</td>\n",
              "      <td>2.151909</td>\n",
              "      <td>2.570926</td>\n",
              "      <td>3.628837</td>\n",
              "      <td>24288.0</td>\n",
              "      <td>...</td>\n",
              "      <td>0.492</td>\n",
              "      <td>NaN</td>\n",
              "      <td>V</td>\n",
              "      <td>V</td>\n",
              "      <td>0.32</td>\n",
              "      <td>1.139480</td>\n",
              "      <td>MBA</td>\n",
              "      <td>0.271609</td>\n",
              "      <td>1325.432765</td>\n",
              "      <td>95.861936</td>\n",
              "    </tr>\n",
              "    <tr>\n",
              "      <th>4</th>\n",
              "      <td>Astraea</td>\n",
              "      <td>2.574249</td>\n",
              "      <td>0.191095</td>\n",
              "      <td>5.366988</td>\n",
              "      <td>141.576605</td>\n",
              "      <td>358.687607</td>\n",
              "      <td>2.082324</td>\n",
              "      <td>3.066174</td>\n",
              "      <td>4.130323</td>\n",
              "      <td>63507.0</td>\n",
              "      <td>...</td>\n",
              "      <td>0.411</td>\n",
              "      <td>NaN</td>\n",
              "      <td>S</td>\n",
              "      <td>S</td>\n",
              "      <td>NaN</td>\n",
              "      <td>1.095890</td>\n",
              "      <td>MBA</td>\n",
              "      <td>0.238632</td>\n",
              "      <td>1508.600458</td>\n",
              "      <td>282.366289</td>\n",
              "    </tr>\n",
              "    <tr>\n",
              "      <th>...</th>\n",
              "      <td>...</td>\n",
              "      <td>...</td>\n",
              "      <td>...</td>\n",
              "      <td>...</td>\n",
              "      <td>...</td>\n",
              "      <td>...</td>\n",
              "      <td>...</td>\n",
              "      <td>...</td>\n",
              "      <td>...</td>\n",
              "      <td>...</td>\n",
              "      <td>...</td>\n",
              "      <td>...</td>\n",
              "      <td>...</td>\n",
              "      <td>...</td>\n",
              "      <td>...</td>\n",
              "      <td>...</td>\n",
              "      <td>...</td>\n",
              "      <td>...</td>\n",
              "      <td>...</td>\n",
              "      <td>...</td>\n",
              "      <td>...</td>\n",
              "    </tr>\n",
              "    <tr>\n",
              "      <th>839709</th>\n",
              "      <td>NaN</td>\n",
              "      <td>2.812945</td>\n",
              "      <td>0.664688</td>\n",
              "      <td>4.695700</td>\n",
              "      <td>183.310012</td>\n",
              "      <td>234.618352</td>\n",
              "      <td>0.943214</td>\n",
              "      <td>4.682676</td>\n",
              "      <td>4.717914</td>\n",
              "      <td>17298.0</td>\n",
              "      <td>...</td>\n",
              "      <td>NaN</td>\n",
              "      <td>NaN</td>\n",
              "      <td>NaN</td>\n",
              "      <td>NaN</td>\n",
              "      <td>NaN</td>\n",
              "      <td>0.032397</td>\n",
              "      <td>APO</td>\n",
              "      <td>0.208911</td>\n",
              "      <td>1723.217927</td>\n",
              "      <td>156.905910</td>\n",
              "    </tr>\n",
              "    <tr>\n",
              "      <th>839710</th>\n",
              "      <td>NaN</td>\n",
              "      <td>2.645238</td>\n",
              "      <td>0.259376</td>\n",
              "      <td>12.574937</td>\n",
              "      <td>1.620020</td>\n",
              "      <td>339.568072</td>\n",
              "      <td>1.959126</td>\n",
              "      <td>3.331350</td>\n",
              "      <td>4.302346</td>\n",
              "      <td>16.0</td>\n",
              "      <td>...</td>\n",
              "      <td>NaN</td>\n",
              "      <td>NaN</td>\n",
              "      <td>NaN</td>\n",
              "      <td>NaN</td>\n",
              "      <td>NaN</td>\n",
              "      <td>0.956145</td>\n",
              "      <td>MBA</td>\n",
              "      <td>0.229090</td>\n",
              "      <td>1571.431965</td>\n",
              "      <td>13.366251</td>\n",
              "    </tr>\n",
              "    <tr>\n",
              "      <th>839711</th>\n",
              "      <td>NaN</td>\n",
              "      <td>2.373137</td>\n",
              "      <td>0.202053</td>\n",
              "      <td>0.732484</td>\n",
              "      <td>176.499082</td>\n",
              "      <td>198.026527</td>\n",
              "      <td>1.893638</td>\n",
              "      <td>2.852636</td>\n",
              "      <td>3.655884</td>\n",
              "      <td>5.0</td>\n",
              "      <td>...</td>\n",
              "      <td>NaN</td>\n",
              "      <td>NaN</td>\n",
              "      <td>NaN</td>\n",
              "      <td>NaN</td>\n",
              "      <td>NaN</td>\n",
              "      <td>0.893896</td>\n",
              "      <td>MBA</td>\n",
              "      <td>0.269600</td>\n",
              "      <td>1335.311579</td>\n",
              "      <td>355.351127</td>\n",
              "    </tr>\n",
              "    <tr>\n",
              "      <th>839712</th>\n",
              "      <td>NaN</td>\n",
              "      <td>2.260404</td>\n",
              "      <td>0.258348</td>\n",
              "      <td>9.661947</td>\n",
              "      <td>204.512448</td>\n",
              "      <td>148.496988</td>\n",
              "      <td>1.676433</td>\n",
              "      <td>2.844376</td>\n",
              "      <td>3.398501</td>\n",
              "      <td>10.0</td>\n",
              "      <td>...</td>\n",
              "      <td>NaN</td>\n",
              "      <td>NaN</td>\n",
              "      <td>NaN</td>\n",
              "      <td>NaN</td>\n",
              "      <td>NaN</td>\n",
              "      <td>0.680220</td>\n",
              "      <td>MBA</td>\n",
              "      <td>0.290018</td>\n",
              "      <td>1241.302609</td>\n",
              "      <td>15.320134</td>\n",
              "    </tr>\n",
              "    <tr>\n",
              "      <th>839713</th>\n",
              "      <td>NaN</td>\n",
              "      <td>2.546442</td>\n",
              "      <td>0.287672</td>\n",
              "      <td>5.356238</td>\n",
              "      <td>70.709555</td>\n",
              "      <td>273.483265</td>\n",
              "      <td>1.813901</td>\n",
              "      <td>3.278983</td>\n",
              "      <td>4.063580</td>\n",
              "      <td>11.0</td>\n",
              "      <td>...</td>\n",
              "      <td>NaN</td>\n",
              "      <td>NaN</td>\n",
              "      <td>NaN</td>\n",
              "      <td>NaN</td>\n",
              "      <td>NaN</td>\n",
              "      <td>0.815280</td>\n",
              "      <td>MBA</td>\n",
              "      <td>0.242551</td>\n",
              "      <td>1484.222588</td>\n",
              "      <td>20.432959</td>\n",
              "    </tr>\n",
              "  </tbody>\n",
              "</table>\n",
              "<p>839714 rows × 31 columns</p>\n",
              "</div>\n",
              "    <div class=\"colab-df-buttons\">\n",
              "\n",
              "  <div class=\"colab-df-container\">\n",
              "    <button class=\"colab-df-convert\" onclick=\"convertToInteractive('df-f03236f7-3afc-4e26-a719-ea1941197c81')\"\n",
              "            title=\"Convert this dataframe to an interactive table.\"\n",
              "            style=\"display:none;\">\n",
              "\n",
              "  <svg xmlns=\"http://www.w3.org/2000/svg\" height=\"24px\" viewBox=\"0 -960 960 960\">\n",
              "    <path d=\"M120-120v-720h720v720H120Zm60-500h600v-160H180v160Zm220 220h160v-160H400v160Zm0 220h160v-160H400v160ZM180-400h160v-160H180v160Zm440 0h160v-160H620v160ZM180-180h160v-160H180v160Zm440 0h160v-160H620v160Z\"/>\n",
              "  </svg>\n",
              "    </button>\n",
              "\n",
              "  <style>\n",
              "    .colab-df-container {\n",
              "      display:flex;\n",
              "      gap: 12px;\n",
              "    }\n",
              "\n",
              "    .colab-df-convert {\n",
              "      background-color: #E8F0FE;\n",
              "      border: none;\n",
              "      border-radius: 50%;\n",
              "      cursor: pointer;\n",
              "      display: none;\n",
              "      fill: #1967D2;\n",
              "      height: 32px;\n",
              "      padding: 0 0 0 0;\n",
              "      width: 32px;\n",
              "    }\n",
              "\n",
              "    .colab-df-convert:hover {\n",
              "      background-color: #E2EBFA;\n",
              "      box-shadow: 0px 1px 2px rgba(60, 64, 67, 0.3), 0px 1px 3px 1px rgba(60, 64, 67, 0.15);\n",
              "      fill: #174EA6;\n",
              "    }\n",
              "\n",
              "    .colab-df-buttons div {\n",
              "      margin-bottom: 4px;\n",
              "    }\n",
              "\n",
              "    [theme=dark] .colab-df-convert {\n",
              "      background-color: #3B4455;\n",
              "      fill: #D2E3FC;\n",
              "    }\n",
              "\n",
              "    [theme=dark] .colab-df-convert:hover {\n",
              "      background-color: #434B5C;\n",
              "      box-shadow: 0px 1px 3px 1px rgba(0, 0, 0, 0.15);\n",
              "      filter: drop-shadow(0px 1px 2px rgba(0, 0, 0, 0.3));\n",
              "      fill: #FFFFFF;\n",
              "    }\n",
              "  </style>\n",
              "\n",
              "    <script>\n",
              "      const buttonEl =\n",
              "        document.querySelector('#df-f03236f7-3afc-4e26-a719-ea1941197c81 button.colab-df-convert');\n",
              "      buttonEl.style.display =\n",
              "        google.colab.kernel.accessAllowed ? 'block' : 'none';\n",
              "\n",
              "      async function convertToInteractive(key) {\n",
              "        const element = document.querySelector('#df-f03236f7-3afc-4e26-a719-ea1941197c81');\n",
              "        const dataTable =\n",
              "          await google.colab.kernel.invokeFunction('convertToInteractive',\n",
              "                                                    [key], {});\n",
              "        if (!dataTable) return;\n",
              "\n",
              "        const docLinkHtml = 'Like what you see? Visit the ' +\n",
              "          '<a target=\"_blank\" href=https://colab.research.google.com/notebooks/data_table.ipynb>data table notebook</a>'\n",
              "          + ' to learn more about interactive tables.';\n",
              "        element.innerHTML = '';\n",
              "        dataTable['output_type'] = 'display_data';\n",
              "        await google.colab.output.renderOutput(dataTable, element);\n",
              "        const docLink = document.createElement('div');\n",
              "        docLink.innerHTML = docLinkHtml;\n",
              "        element.appendChild(docLink);\n",
              "      }\n",
              "    </script>\n",
              "  </div>\n",
              "\n",
              "\n",
              "<div id=\"df-238c2f87-407f-4169-9bda-9130b823c82d\">\n",
              "  <button class=\"colab-df-quickchart\" onclick=\"quickchart('df-238c2f87-407f-4169-9bda-9130b823c82d')\"\n",
              "            title=\"Suggest charts.\"\n",
              "            style=\"display:none;\">\n",
              "\n",
              "<svg xmlns=\"http://www.w3.org/2000/svg\" height=\"24px\"viewBox=\"0 0 24 24\"\n",
              "     width=\"24px\">\n",
              "    <g>\n",
              "        <path d=\"M19 3H5c-1.1 0-2 .9-2 2v14c0 1.1.9 2 2 2h14c1.1 0 2-.9 2-2V5c0-1.1-.9-2-2-2zM9 17H7v-7h2v7zm4 0h-2V7h2v10zm4 0h-2v-4h2v4z\"/>\n",
              "    </g>\n",
              "</svg>\n",
              "  </button>\n",
              "\n",
              "<style>\n",
              "  .colab-df-quickchart {\n",
              "      --bg-color: #E8F0FE;\n",
              "      --fill-color: #1967D2;\n",
              "      --hover-bg-color: #E2EBFA;\n",
              "      --hover-fill-color: #174EA6;\n",
              "      --disabled-fill-color: #AAA;\n",
              "      --disabled-bg-color: #DDD;\n",
              "  }\n",
              "\n",
              "  [theme=dark] .colab-df-quickchart {\n",
              "      --bg-color: #3B4455;\n",
              "      --fill-color: #D2E3FC;\n",
              "      --hover-bg-color: #434B5C;\n",
              "      --hover-fill-color: #FFFFFF;\n",
              "      --disabled-bg-color: #3B4455;\n",
              "      --disabled-fill-color: #666;\n",
              "  }\n",
              "\n",
              "  .colab-df-quickchart {\n",
              "    background-color: var(--bg-color);\n",
              "    border: none;\n",
              "    border-radius: 50%;\n",
              "    cursor: pointer;\n",
              "    display: none;\n",
              "    fill: var(--fill-color);\n",
              "    height: 32px;\n",
              "    padding: 0;\n",
              "    width: 32px;\n",
              "  }\n",
              "\n",
              "  .colab-df-quickchart:hover {\n",
              "    background-color: var(--hover-bg-color);\n",
              "    box-shadow: 0 1px 2px rgba(60, 64, 67, 0.3), 0 1px 3px 1px rgba(60, 64, 67, 0.15);\n",
              "    fill: var(--button-hover-fill-color);\n",
              "  }\n",
              "\n",
              "  .colab-df-quickchart-complete:disabled,\n",
              "  .colab-df-quickchart-complete:disabled:hover {\n",
              "    background-color: var(--disabled-bg-color);\n",
              "    fill: var(--disabled-fill-color);\n",
              "    box-shadow: none;\n",
              "  }\n",
              "\n",
              "  .colab-df-spinner {\n",
              "    border: 2px solid var(--fill-color);\n",
              "    border-color: transparent;\n",
              "    border-bottom-color: var(--fill-color);\n",
              "    animation:\n",
              "      spin 1s steps(1) infinite;\n",
              "  }\n",
              "\n",
              "  @keyframes spin {\n",
              "    0% {\n",
              "      border-color: transparent;\n",
              "      border-bottom-color: var(--fill-color);\n",
              "      border-left-color: var(--fill-color);\n",
              "    }\n",
              "    20% {\n",
              "      border-color: transparent;\n",
              "      border-left-color: var(--fill-color);\n",
              "      border-top-color: var(--fill-color);\n",
              "    }\n",
              "    30% {\n",
              "      border-color: transparent;\n",
              "      border-left-color: var(--fill-color);\n",
              "      border-top-color: var(--fill-color);\n",
              "      border-right-color: var(--fill-color);\n",
              "    }\n",
              "    40% {\n",
              "      border-color: transparent;\n",
              "      border-right-color: var(--fill-color);\n",
              "      border-top-color: var(--fill-color);\n",
              "    }\n",
              "    60% {\n",
              "      border-color: transparent;\n",
              "      border-right-color: var(--fill-color);\n",
              "    }\n",
              "    80% {\n",
              "      border-color: transparent;\n",
              "      border-right-color: var(--fill-color);\n",
              "      border-bottom-color: var(--fill-color);\n",
              "    }\n",
              "    90% {\n",
              "      border-color: transparent;\n",
              "      border-bottom-color: var(--fill-color);\n",
              "    }\n",
              "  }\n",
              "</style>\n",
              "\n",
              "  <script>\n",
              "    async function quickchart(key) {\n",
              "      const quickchartButtonEl =\n",
              "        document.querySelector('#' + key + ' button');\n",
              "      quickchartButtonEl.disabled = true;  // To prevent multiple clicks.\n",
              "      quickchartButtonEl.classList.add('colab-df-spinner');\n",
              "      try {\n",
              "        const charts = await google.colab.kernel.invokeFunction(\n",
              "            'suggestCharts', [key], {});\n",
              "      } catch (error) {\n",
              "        console.error('Error during call to suggestCharts:', error);\n",
              "      }\n",
              "      quickchartButtonEl.classList.remove('colab-df-spinner');\n",
              "      quickchartButtonEl.classList.add('colab-df-quickchart-complete');\n",
              "    }\n",
              "    (() => {\n",
              "      let quickchartButtonEl =\n",
              "        document.querySelector('#df-238c2f87-407f-4169-9bda-9130b823c82d button');\n",
              "      quickchartButtonEl.style.display =\n",
              "        google.colab.kernel.accessAllowed ? 'block' : 'none';\n",
              "    })();\n",
              "  </script>\n",
              "</div>\n",
              "    </div>\n",
              "  </div>\n"
            ]
          },
          "metadata": {},
          "execution_count": 5
        }
      ]
    },
    {
      "cell_type": "code",
      "source": [
        "df.columns"
      ],
      "metadata": {
        "colab": {
          "base_uri": "https://localhost:8080/"
        },
        "id": "noWvJJtCf4ZH",
        "outputId": "6208ba93-b77f-4679-aa29-ef143b044096"
      },
      "execution_count": 6,
      "outputs": [
        {
          "output_type": "execute_result",
          "data": {
            "text/plain": [
              "Index(['name', 'a', 'e', 'i', 'om', 'w', 'q', 'ad', 'per_y', 'data_arc',\n",
              "       'condition_code', 'n_obs_used', 'H', 'neo', 'pha', 'diameter', 'extent',\n",
              "       'albedo', 'rot_per', 'GM', 'BV', 'UB', 'IR', 'spec_B', 'spec_T', 'G',\n",
              "       'moid', 'class', 'n', 'per', 'ma'],\n",
              "      dtype='object')"
            ]
          },
          "metadata": {},
          "execution_count": 6
        }
      ]
    },
    {
      "cell_type": "markdown",
      "source": [
        "# Columns according to the dataset:\n",
        "a- semi-major axis(au)\n",
        "\n",
        "e- eccentricity\n",
        "\n",
        "i- Inclination with respect to x-y ecliptic plane(deg)\n",
        "\n",
        "om- Longitude of the ascending node\n",
        "\n",
        "w- argument of perihelion\n",
        "\n",
        "q- argument of perihelion\n",
        "\n",
        "ad- aphelion distance(au)\n",
        "\n",
        "per-y- Orbital period(YEARS)\n",
        "\n",
        "data_arc- data arc range (it is not important to calculate)\n",
        "\n",
        "condition_code- condition code\n",
        "\n",
        "n_obs_used- (it is not important to calculate)\n",
        "\n",
        "H- Absolute Magnitude parameter\n",
        "\n",
        "neo- Near Earth Object / N or Y\n",
        "\n",
        "pha- Physically Hazardous Asteroid - N or Y\n",
        "\n",
        "diameter\n",
        "\n",
        "extent\n",
        "\n",
        "albedo- albedo value\n",
        "\n",
        "rot_per- rotation period\n",
        "\n",
        "\n",
        "BV- Color\n",
        "\n",
        "UB- Color\n",
        "\n",
        "spec_B- Class Type Speci.\n",
        "\n",
        "spec_T- Class Type General\n",
        "\n",
        "\n",
        "moid- Earth Minimum orbit Intersection Distance(au)\n",
        "\n",
        "class- Class\n",
        "\n",
        "n- Mean motion(deg/d)\n",
        "\n",
        "per- orbital Period(d)\n",
        "\n",
        "ma- Mean anomaly(deg)\n",
        "\n"
      ],
      "metadata": {
        "id": "u49NQlkLgxrf"
      }
    },
    {
      "cell_type": "code",
      "source": [
        "#analyzing datatypes of columns\n",
        "numerics = ['int16', 'int32', 'int64', 'float16', 'float32', 'float64']\n",
        "\n",
        "numeric_df = df.select_dtypes(include=numerics)\n",
        "len(numeric_df.columns)"
      ],
      "metadata": {
        "colab": {
          "base_uri": "https://localhost:8080/"
        },
        "id": "wl1NrqYGm0EG",
        "outputId": "7cfdaa28-e0d0-4057-98b6-474a820a6116"
      },
      "execution_count": 7,
      "outputs": [
        {
          "output_type": "execute_result",
          "data": {
            "text/plain": [
              "22"
            ]
          },
          "metadata": {},
          "execution_count": 7
        }
      ]
    },
    {
      "cell_type": "code",
      "source": [
        "#missing values\n",
        "missing_percentages = df.isna().sum().sort_values(ascending=False)\n",
        "missing_percentages"
      ],
      "metadata": {
        "colab": {
          "base_uri": "https://localhost:8080/"
        },
        "id": "yheTjbsQm7E5",
        "outputId": "c6694b80-40a1-4f85-a6d8-da8c62bccb61"
      },
      "execution_count": 8,
      "outputs": [
        {
          "output_type": "execute_result",
          "data": {
            "text/plain": [
              "IR                839713\n",
              "GM                839700\n",
              "extent            839696\n",
              "G                 839595\n",
              "UB                838735\n",
              "spec_T            838734\n",
              "BV                838693\n",
              "spec_B            838048\n",
              "rot_per           820918\n",
              "name              817747\n",
              "albedo            703305\n",
              "diameter          702078\n",
              "pha                16442\n",
              "moid               16442\n",
              "data_arc           15474\n",
              "H                   2689\n",
              "condition_code       867\n",
              "ma                     8\n",
              "ad                     6\n",
              "neo                    6\n",
              "per                    6\n",
              "a                      2\n",
              "n                      2\n",
              "per_y                  1\n",
              "n_obs_used             0\n",
              "w                      0\n",
              "om                     0\n",
              "i                      0\n",
              "e                      0\n",
              "class                  0\n",
              "q                      0\n",
              "dtype: int64"
            ]
          },
          "metadata": {},
          "execution_count": 8
        }
      ]
    },
    {
      "cell_type": "code",
      "source": [
        "#Dropping the columns with too many missing values\n",
        "columns_to_drop = ['IR', 'GM', 'extent', 'G', 'UB', 'spec_T', 'BV', 'spec_B', 'rot_per', 'name', 'albedo', 'diameter','condition_code']\n",
        "df=df.drop(columns=columns_to_drop)"
      ],
      "metadata": {
        "id": "7NxeWZQznaFG"
      },
      "execution_count": 9,
      "outputs": []
    },
    {
      "cell_type": "code",
      "source": [
        "df=df.dropna(subset=['pha','H','data_arc','ma','ad','neo','per','n','a','per_y'])"
      ],
      "metadata": {
        "id": "d6QUn7hEpwTk"
      },
      "execution_count": 10,
      "outputs": []
    },
    {
      "cell_type": "code",
      "source": [
        "#missing values\n",
        "missing_percentages = df.isna().sum().sort_values(ascending=False)\n",
        "missing_percentages"
      ],
      "metadata": {
        "colab": {
          "base_uri": "https://localhost:8080/"
        },
        "id": "wavSVTzkp3sc",
        "outputId": "a05fb44b-024c-4dc3-e9ee-7bb1b05269a1"
      },
      "execution_count": 11,
      "outputs": [
        {
          "output_type": "execute_result",
          "data": {
            "text/plain": [
              "a             0\n",
              "e             0\n",
              "per           0\n",
              "n             0\n",
              "class         0\n",
              "moid          0\n",
              "pha           0\n",
              "neo           0\n",
              "H             0\n",
              "n_obs_used    0\n",
              "data_arc      0\n",
              "per_y         0\n",
              "ad            0\n",
              "q             0\n",
              "w             0\n",
              "om            0\n",
              "i             0\n",
              "ma            0\n",
              "dtype: int64"
            ]
          },
          "metadata": {},
          "execution_count": 11
        }
      ]
    },
    {
      "cell_type": "code",
      "source": [
        "df['neo'] = df['neo'].replace({'Y': 1, 'N': 0})\n",
        "df['pha'] = df['pha'].replace({'Y': 1, 'N': 0})"
      ],
      "metadata": {
        "id": "Za5MKU4ustzC"
      },
      "execution_count": 12,
      "outputs": []
    },
    {
      "cell_type": "code",
      "source": [
        "df['class'].unique()"
      ],
      "metadata": {
        "colab": {
          "base_uri": "https://localhost:8080/"
        },
        "id": "9pnBUrjqsDAo",
        "outputId": "2800f2db-ab77-4adc-d4a3-10a09173f1b2"
      },
      "execution_count": 13,
      "outputs": [
        {
          "output_type": "execute_result",
          "data": {
            "text/plain": [
              "array(['MBA', 'OMB', 'MCA', 'AMO', 'IMB', 'TJN', 'CEN', 'APO', 'ATE',\n",
              "       'AST', 'TNO', 'IEO'], dtype=object)"
            ]
          },
          "metadata": {},
          "execution_count": 13
        }
      ]
    },
    {
      "cell_type": "code",
      "source": [
        "class_mapping = {\n",
        "    'MBA': 0,\n",
        "    'OMB': 1,\n",
        "    'MCA': 2,\n",
        "    'AMO': 3,\n",
        "    'IMB': 4,\n",
        "    'TJN': 5,\n",
        "    'CEN': 6,\n",
        "    'APO': 7,\n",
        "    'ATE': 8,\n",
        "    'AST': 9,\n",
        "    'TNO': 10,\n",
        "    'IEO': 11\n",
        "}\n",
        "df['class'] = df['class'].replace(class_mapping)"
      ],
      "metadata": {
        "id": "Xe3zwJ0KsV-x"
      },
      "execution_count": 14,
      "outputs": []
    },
    {
      "cell_type": "code",
      "source": [
        "df.info"
      ],
      "metadata": {
        "colab": {
          "base_uri": "https://localhost:8080/"
        },
        "id": "bs1rsOeLswaV",
        "outputId": "2a7969dd-8ea4-43b6-9b90-c900a9fc2290"
      },
      "execution_count": 15,
      "outputs": [
        {
          "output_type": "execute_result",
          "data": {
            "text/plain": [
              "<bound method DataFrame.info of                a         e          i          om           w         q  \\\n",
              "0       2.769165  0.076009  10.594067   80.305532   73.597694  2.558684   \n",
              "1       2.772466  0.230337  34.836234  173.080063  310.048857  2.133865   \n",
              "2       2.669150  0.256942  12.988919  169.852760  248.138626  1.983332   \n",
              "3       2.361418  0.088721   7.141771  103.810804  150.728541  2.151909   \n",
              "4       2.574249  0.191095   5.366988  141.576605  358.687607  2.082324   \n",
              "...          ...       ...        ...         ...         ...       ...   \n",
              "839709  2.812945  0.664688   4.695700  183.310012  234.618352  0.943214   \n",
              "839710  2.645238  0.259376  12.574937    1.620020  339.568072  1.959126   \n",
              "839711  2.373137  0.202053   0.732484  176.499082  198.026527  1.893638   \n",
              "839712  2.260404  0.258348   9.661947  204.512448  148.496988  1.676433   \n",
              "839713  2.546442  0.287672   5.356238   70.709555  273.483265  1.813901   \n",
              "\n",
              "              ad     per_y  data_arc  n_obs_used       H  neo  pha      moid  \\\n",
              "0       2.979647  4.608202    8822.0        1002   3.340    0    0  1.594780   \n",
              "1       3.411067  4.616444   72318.0        8490   4.130    0    0  1.233240   \n",
              "2       3.354967  4.360814   72684.0        7104   5.330    0    0  1.034540   \n",
              "3       2.570926  3.628837   24288.0        9325   3.200    0    0  1.139480   \n",
              "4       3.066174  4.130323   63507.0        2916   6.850    0    0  1.095890   \n",
              "...          ...       ...       ...         ...     ...  ...  ...       ...   \n",
              "839709  4.682676  4.717914   17298.0         118  20.400    1    1  0.032397   \n",
              "839710  3.331350  4.302346      16.0          15  17.507    0    0  0.956145   \n",
              "839711  2.852636  3.655884       5.0           6  18.071    0    0  0.893896   \n",
              "839712  2.844376  3.398501      10.0          13  18.060    0    0  0.680220   \n",
              "839713  3.278983  4.063580      11.0          11  17.406    0    0  0.815280   \n",
              "\n",
              "        class         n          per          ma  \n",
              "0           0  0.213885  1683.145708   77.372096  \n",
              "1           0  0.213503  1686.155999   59.699133  \n",
              "2           0  0.226019  1592.787285   34.925016  \n",
              "3           0  0.271609  1325.432765   95.861936  \n",
              "4           0  0.238632  1508.600458  282.366289  \n",
              "...       ...       ...          ...         ...  \n",
              "839709      7  0.208911  1723.217927  156.905910  \n",
              "839710      0  0.229090  1571.431965   13.366251  \n",
              "839711      0  0.269600  1335.311579  355.351127  \n",
              "839712      0  0.290018  1241.302609   15.320134  \n",
              "839713      0  0.242551  1484.222588   20.432959  \n",
              "\n",
              "[820174 rows x 18 columns]>"
            ]
          },
          "metadata": {},
          "execution_count": 15
        }
      ]
    },
    {
      "cell_type": "code",
      "source": [
        "X = df.drop('pha', axis=1)\n",
        "y = df['pha']"
      ],
      "metadata": {
        "id": "V1dZzHfFcSNn"
      },
      "execution_count": 16,
      "outputs": []
    },
    {
      "cell_type": "code",
      "source": [
        "from sklearn.model_selection import train_test_split\n",
        "X_train, X_test, y_train, y_test = train_test_split(X, y, test_size = 0.2, random_state=99)"
      ],
      "metadata": {
        "id": "JO49sEOKe35v"
      },
      "execution_count": 17,
      "outputs": []
    },
    {
      "cell_type": "markdown",
      "source": [
        "# Classification model to predict whether an asteroid is hazardous"
      ],
      "metadata": {
        "id": "091uupyW3-kR"
      }
    },
    {
      "cell_type": "code",
      "source": [
        "from sklearn.metrics import accuracy_score, precision_score, recall_score, f1_score, roc_auc_score\n",
        "from tensorflow.keras.models import Sequential\n",
        "from tensorflow.keras.layers import Dense, Dropout\n",
        "from sklearn.preprocessing import StandardScaler"
      ],
      "metadata": {
        "id": "Pm4grm7l5Zid"
      },
      "execution_count": 18,
      "outputs": []
    },
    {
      "cell_type": "code",
      "source": [
        "# Standardize\n",
        "scaler = StandardScaler()\n",
        "X_train_scaled = scaler.fit_transform(X_train)\n",
        "X_test_scaled = scaler.transform(X_test)"
      ],
      "metadata": {
        "id": "KanwLGuW7kr9"
      },
      "execution_count": 19,
      "outputs": []
    },
    {
      "cell_type": "code",
      "source": [
        "#model\n",
        "model = Sequential()\n",
        "model.add(Dense(256, activation='relu', input_shape=(X_train_scaled.shape[1],)))\n",
        "model.add(Dropout(0.3))\n",
        "model.add(Dense(128, activation='relu'))\n",
        "model.add(Dropout(0.3))\n",
        "model.add(Dense(64, activation='relu'))\n",
        "model.add(Dropout(0.3))\n",
        "model.add(Dense(32, activation='relu'))\n",
        "model.add(Dropout(0.3))\n",
        "model.add(Dense(1, activation='sigmoid'))"
      ],
      "metadata": {
        "id": "Cx5ZGSsF4sJ5"
      },
      "execution_count": 20,
      "outputs": []
    },
    {
      "cell_type": "code",
      "source": [
        "#Compiling\n",
        "model.compile(optimizer='adam', loss='binary_crossentropy', metrics=['accuracy'])"
      ],
      "metadata": {
        "id": "joW_2gYR55v_"
      },
      "execution_count": 21,
      "outputs": []
    },
    {
      "cell_type": "code",
      "source": [
        "model.fit(X_train_scaled, y_train, epochs=10, batch_size=64)"
      ],
      "metadata": {
        "colab": {
          "base_uri": "https://localhost:8080/"
        },
        "id": "tMm3lLbr59Wo",
        "outputId": "19affd9f-942d-47ad-844e-1d6c952feaab"
      },
      "execution_count": 22,
      "outputs": [
        {
          "output_type": "stream",
          "name": "stdout",
          "text": [
            "Epoch 1/10\n",
            "10253/10253 [==============================] - 58s 5ms/step - loss: 0.0072 - accuracy: 0.9973\n",
            "Epoch 2/10\n",
            "10253/10253 [==============================] - 56s 5ms/step - loss: 0.0056 - accuracy: 0.9976\n",
            "Epoch 3/10\n",
            "10253/10253 [==============================] - 54s 5ms/step - loss: 0.0055 - accuracy: 0.9976\n",
            "Epoch 4/10\n",
            "10253/10253 [==============================] - 55s 5ms/step - loss: 0.0054 - accuracy: 0.9976\n",
            "Epoch 5/10\n",
            "10253/10253 [==============================] - 55s 5ms/step - loss: 0.0051 - accuracy: 0.9977\n",
            "Epoch 6/10\n",
            "10253/10253 [==============================] - 55s 5ms/step - loss: 0.0053 - accuracy: 0.9978\n",
            "Epoch 7/10\n",
            "10253/10253 [==============================] - 59s 6ms/step - loss: 0.0051 - accuracy: 0.9978\n",
            "Epoch 8/10\n",
            "10253/10253 [==============================] - 54s 5ms/step - loss: 0.0051 - accuracy: 0.9978\n",
            "Epoch 9/10\n",
            "10253/10253 [==============================] - 54s 5ms/step - loss: 0.0052 - accuracy: 0.9978\n",
            "Epoch 10/10\n",
            "10253/10253 [==============================] - 54s 5ms/step - loss: 0.0050 - accuracy: 0.9978\n"
          ]
        },
        {
          "output_type": "execute_result",
          "data": {
            "text/plain": [
              "<keras.callbacks.History at 0x7d108aa07b20>"
            ]
          },
          "metadata": {},
          "execution_count": 22
        }
      ]
    },
    {
      "cell_type": "code",
      "source": [
        "# Evaluating\n",
        "y_pred = (model.predict(X_test_scaled) > 0.5).astype(int)"
      ],
      "metadata": {
        "id": "6qsX0iam6cY2",
        "colab": {
          "base_uri": "https://localhost:8080/"
        },
        "outputId": "f11597ee-2d52-409b-905c-8f983b47384e"
      },
      "execution_count": 25,
      "outputs": [
        {
          "output_type": "stream",
          "name": "stdout",
          "text": [
            "5127/5127 [==============================] - 18s 3ms/step\n"
          ]
        }
      ]
    },
    {
      "cell_type": "code",
      "source": [
        "# Calculate evaluation metrics\n",
        "accuracy = accuracy_score(y_test, y_pred)\n",
        "precision = precision_score(y_test, y_pred)\n",
        "recall = recall_score(y_test, y_pred)\n",
        "f1 = f1_score(y_test, y_pred)\n",
        "roc_auc = roc_auc_score(y_test, y_pred)\n",
        "\n",
        "print(f\"Accuracy: {accuracy:.2f}\")\n",
        "print(f\"Precision: {precision:.2f}\")\n",
        "print(f\"Recall: {recall:.2f}\")\n",
        "print(f\"F1 Score: {f1:.2f}\")\n",
        "print(f\"ROC AUC Score: {roc_auc:.2f}\")"
      ],
      "metadata": {
        "colab": {
          "base_uri": "https://localhost:8080/"
        },
        "id": "9ydp6ZdcBWz8",
        "outputId": "562d37c3-eae1-477c-f310-75b1fb547e8a"
      },
      "execution_count": 29,
      "outputs": [
        {
          "output_type": "stream",
          "name": "stdout",
          "text": [
            "Accuracy: 1.00\n",
            "Precision: 0.80\n",
            "Recall: 0.27\n",
            "F1 Score: 0.40\n",
            "ROC AUC Score: 0.63\n"
          ]
        }
      ]
    },
    {
      "cell_type": "code",
      "source": [
        "import matplotlib.pyplot as plt\n",
        "from sklearn.metrics import confusion_matrix\n",
        "import seaborn as sns"
      ],
      "metadata": {
        "id": "-_aMvkEbBt7h"
      },
      "execution_count": 27,
      "outputs": []
    },
    {
      "cell_type": "code",
      "source": [
        "# Ploting accuracy, precision, recall, and F1-score\n",
        "metrics = ['Accuracy', 'Precision', 'Recall', 'F1 Score']\n",
        "values = [accuracy, precision, recall, f1]\n",
        "\n",
        "plt.figure(figsize=(10, 6))\n",
        "plt.bar(metrics, values, color=['skyblue', 'lightgreen', 'lightcoral', 'lightsalmon'])\n",
        "plt.title('Model Evaluation Metrics')\n",
        "plt.xlabel('Metric')\n",
        "plt.ylabel('Value')\n",
        "plt.ylim(0, 1)\n",
        "plt.show()"
      ],
      "metadata": {
        "colab": {
          "base_uri": "https://localhost:8080/",
          "height": 564
        },
        "id": "AGm5IHVoBxKd",
        "outputId": "9b89efa7-7c32-4522-c938-474e77b509e9"
      },
      "execution_count": 33,
      "outputs": [
        {
          "output_type": "display_data",
          "data": {
            "text/plain": [
              "<Figure size 1000x600 with 1 Axes>"
            ],
            "image/png": "[encoded data removed]"
          },
          "metadata": {}
        }
      ]
    },
    {
      "cell_type": "code",
      "source": [
        "#Confusion matrix\n",
        "conf_matrix = confusion_matrix(y_test, y_pred)\n",
        "\n",
        "plt.figure(figsize=(8, 6))\n",
        "sns.heatmap(conf_matrix, annot=True, cmap='Blues', fmt='g')\n",
        "plt.title('Confusion Matrix')\n",
        "plt.xlabel('Predicted Labels')\n",
        "plt.ylabel('True Labels')\n",
        "plt.show()"
      ],
      "metadata": {
        "colab": {
          "base_uri": "https://localhost:8080/",
          "height": 564
        },
        "id": "lOu35s89Cexf",
        "outputId": "69eeb6a0-d207-4823-d021-e8a5ac488b26"
      },
      "execution_count": 30,
      "outputs": [
        {
          "output_type": "display_data",
          "data": {
            "text/plain": [
              "<Figure size 800x600 with 2 Axes>"
            ],
            "image/png": "[encoded data removed]"
          },
          "metadata": {}
        }
      ]
    }
  ]
}